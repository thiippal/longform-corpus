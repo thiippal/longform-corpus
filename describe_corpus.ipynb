{
 "cells": [
  {
   "cell_type": "markdown",
   "metadata": {},
   "source": [
    "# Tools for exploring the structure of longform articles"
   ]
  },
  {
   "cell_type": "markdown",
   "metadata": {},
   "source": [
    "Import the necessary packages."
   ]
  },
  {
   "cell_type": "code",
   "execution_count": 1,
   "metadata": {
    "collapsed": false
   },
   "outputs": [],
   "source": [
    "import xml.etree.ElementTree as et\n",
    "import numpy as np\n",
    "import glob\n",
    "from itertools import cycle\n",
    "from collections import Counter as c"
   ]
  },
  {
   "cell_type": "markdown",
   "metadata": {},
   "source": [
    "Load the annotated data from the XML file."
   ]
  },
  {
   "cell_type": "code",
   "execution_count": 2,
   "metadata": {
    "collapsed": false
   },
   "outputs": [
    {
     "name": "stdout",
     "output_type": "stream",
     "text": [
      "A Game of Shark and Minnow - Who Will Win Control of the South China Sea? / The New York Times / 2013 \n",
      "\n",
      "001 image-flow dynamic none dissolve\n",
      "002 map dynamic dissolve dissolve\n",
      "003 photograph static dissolve scroll\n",
      "004 text-flow static scroll scroll\n",
      "005 image-flow dynamic scroll dissolve\n",
      "006 photograph static dissolve dissolve\n",
      "007 image-flow dynamic dissolve dissolve\n",
      "008 photograph static dissolve scroll\n",
      "009 text-flow static scroll scroll\n",
      "010 map dynamic scroll zoom\n",
      "011 map dynamic zoom zoom\n",
      "012 map dynamic zoom zoom\n",
      "013 map dynamic zoom zoom\n",
      "014 map dynamic zoom scroll\n",
      "015 text-flow static scroll scroll\n",
      "016 image-flow dynamic scroll dissolve\n",
      "017 photograph static dissolve dissolve\n",
      "018 photograph static dissolve dissolve\n",
      "019 image-flow dynamic dissolve scroll\n",
      "020 text-flow static scroll scroll\n",
      "021 image-flow dynamic scroll dissolve\n",
      "022 image-flow dynamic dissolve dissolve\n",
      "023 image-flow dynamic dissolve scroll\n",
      "024 text-flow static scroll scroll\n",
      "025 photograph static scroll dissolve\n",
      "026 image-flow dynamic dissolve dissolve\n",
      "027 image-flow dynamic dissolve scroll\n",
      "028 text-flow static scroll scroll\n",
      "029 image-flow dynamic scroll dissolve\n",
      "030 image-flow dynamic dissolve dissolve\n",
      "031 photograph static dissolve dissolve\n",
      "032 photograph static dissolve scroll\n",
      "033 text-flow static scroll none\n",
      "\n",
      "\n",
      "The Geeks on the Front Lines / Rolling Stone / 2013 \n",
      "\n",
      "001 image-flow dynamic none zoom\n",
      "002 text-flow static zoom scroll\n",
      "003 photograph static scroll scroll\n",
      "004 text-flow static scroll scroll\n",
      "005 photograph static scroll scroll\n",
      "006 text-flow static scroll scroll\n",
      "007 photograph static scroll scroll\n",
      "008 text-flow static scroll scroll\n",
      "009 photograph static scroll scroll\n",
      "010 text-flow static scroll scroll\n",
      "\n",
      "\n",
      "Greenland Melting / Rolling Stone / 2013 \n",
      "\n",
      "001 illustration dynamic none wipe\n",
      "002 text-flow static wipe scroll\n",
      "003 image-flow dynamic scroll scroll\n",
      "004 text-flow static scroll scroll\n",
      "005 photograph static scroll scroll\n",
      "006 text-flow static scroll scroll\n",
      "007 image-flow dynamic scroll scroll\n",
      "008 text-flow static scroll none\n",
      "\n",
      "\n",
      "Invisible Child - Girl in the Shadows: Dasani's Homeless Life / The New York Times / 2013 \n",
      "\n",
      "001 photograph static none scroll\n",
      "002 text-flow static scroll click\n",
      "003 photograph static click scroll\n",
      "004 text-flow static scroll click\n",
      "005 photograph static click scroll\n",
      "006 text-flow static scroll click\n",
      "007 photograph static click scroll\n",
      "008 text-flow static scroll click\n",
      "009 photograph static click scroll\n",
      "010 text-flow static scroll none\n",
      "\n",
      "\n",
      "Kowloon Walled City / The Wall Street Journal / 2013 \n",
      "\n",
      "001 image-flow dynamic none click\n",
      "002 page-flow dynamic click click\n",
      "003 page-flow dynamic click click\n",
      "004 page-flow dynamic click click\n",
      "005 page-flow dynamic click none\n",
      "\n",
      "\n",
      "Snow Fall: The Avalanche at Tunnel Creek / The New York Times / 2012 \n",
      "\n",
      "001 image-flow dynamic none wipe\n",
      "002 text-flow static wipe wipe\n",
      "003 map dynamic wipe wipe\n",
      "004 text-flow static wipe wipe\n",
      "005 map dynamic wipe click\n",
      "006 photograph static click wipe\n",
      "007 text-flow static wipe wipe\n",
      "008 animation dynamic wipe wipe\n",
      "009 text-flow static wipe wipe\n",
      "010 map dynamic wipe click\n",
      "011 text-flow static click wipe\n",
      "012 text-flow static wipe click\n",
      "013 photograph static click wipe\n",
      "014 text-flow static wipe wipe\n",
      "015 animation dynamic wipe wipe\n",
      "016 text-flow static wipe click\n",
      "017 image-flow dynamic click wipe\n",
      "018 text-flow static wipe click\n",
      "019 image-flow dynamic click wipe\n",
      "020 text-flow static wipe none\n",
      "\n",
      "\n",
      "The Dream Boat / The New York Times / 2013 \n",
      "\n",
      "001 photograph static none scroll\n",
      "002 text-flow static scroll scroll\n",
      "003 photograph static scroll scroll\n",
      "004 text-flow static scroll scroll\n",
      "005 photograph static scroll scroll\n",
      "006 text-flow static scroll scroll\n",
      "007 photograph static scroll scroll\n",
      "008 text-flow static scroll scroll\n",
      "009 photograph static scroll scroll\n",
      "010 text-flow static scroll scroll\n",
      "011 image-flow dynamic scroll scroll\n",
      "012 text-flow static scroll scroll\n",
      "013 photograph static scroll scroll\n",
      "014 text-flow static scroll scroll\n",
      "015 photograph static scroll scroll\n",
      "016 text-flow static scroll scroll\n",
      "017 photograph static scroll scroll\n",
      "018 text-flow static scroll none\n",
      "\n",
      "\n",
      "The Jockey / The New York Times / 2013 \n",
      "\n",
      "001 text-flow static none wipe\n",
      "002 image-flow dynamic wipe wipe\n",
      "003 text-flow static wipe wipe\n",
      "004 image-flow dynamic wipe wipe\n",
      "005 text-flow static wipe click\n",
      "006 text-flow static dissolve wipe\n",
      "007 image-flow dynamic wipe wipe\n",
      "008 text-flow static wipe click\n",
      "009 photograph static dissolve scroll\n",
      "010 text-flow static scroll click\n",
      "011 photograph static dissolve scroll\n",
      "011 text-flow static scroll wipe\n",
      "012 image-flow dynamic wipe wipe\n",
      "013 text-flow static wipe click\n",
      "014 photograph static dissolve scroll\n",
      "015 text-flow static scroll click\n",
      "016 photograph static dissolve scroll\n",
      "017 text-flow static scroll wipe\n",
      "018 image-flow dynamic wipe wipe\n",
      "019 text-flow static wipe click\n",
      "020 photograph static dissolve scroll\n",
      "021 image-flow dynamic wipe wipe\n",
      "022 text-flow static wipe click\n",
      "023 photograph static dissolve scroll\n",
      "024 text-flow static scroll none\n",
      "\n",
      "\n",
      "The Lobotomy Files / The Wall Street Journal / 2013 \n",
      "\n",
      "001 image-flow dynamic none dissolve\n",
      "002 text-flow static dissolve scroll\n",
      "003 photograph static scroll dissolve\n",
      "004 photograph static dissolve dissolve\n",
      "005 photograph static dissolve dissolve\n",
      "006 photograph static dissolve scroll\n",
      "007 text-flow static scroll scroll\n",
      "008 photograph static scroll dissolve\n",
      "009 text-flow static dissolve scroll\n",
      "010 photograph static scroll dissolve\n",
      "011 text-flow static dissolve scroll\n",
      "012 page-flow dynamic scroll dissolve\n",
      "013 text-flow static dissolve scroll\n",
      "014 photograph static scroll dissolve\n",
      "015 photograph static dissolve dissolve\n",
      "016 photograph static dissolve dissolve\n",
      "017 photograph static dissolve scroll\n",
      "018 text-flow static scroll click\n",
      "019 photograph static click dissolve\n",
      "020 text-flow static dissolve scroll\n",
      "021 page-flow dynamic scroll dissolve\n",
      "022 text-flow static dissolve scroll\n",
      "023 photograph static scroll dissolve\n",
      "024 text-flow static dissolve scroll\n",
      "025 photograph static scroll dissolve\n",
      "026 text-flow static dissolve click\n",
      "027 photograph static click dissolve\n",
      "028 text-flow static dissolve none\n",
      "\n",
      "\n",
      "Tomato Can Blues / The New York Times / 2013 \n",
      "\n",
      "001 illustration dynamic none scroll\n",
      "002 text-flow static scroll scroll\n",
      "003 image-flow static scroll scroll\n",
      "004 text-flow static scroll scroll\n",
      "005 image-flow static scroll scroll\n",
      "006 text-flow static scroll scroll\n",
      "007 illustration static scroll scroll\n",
      "008 text-flow static scroll scroll\n",
      "009 illustration static scroll none\n",
      "\n",
      "\n",
      "Trials: A Desperate Fight to Save Kids and Change Science / The Wall Street Journal / 2013 \n",
      "\n",
      "001 image-flow dynamic none scroll\n",
      "002 text-flow static scroll click\n",
      "003 photograph static click scroll\n",
      "004 text-flow static scroll click\n",
      "005 image-flow dynamic click scroll\n",
      "006 text-flow static scroll click\n",
      "007 image-flow dynamic click scroll\n",
      "008 text-flow static scroll click\n",
      "009 image-flow dynamic click scroll\n",
      "010 text-flow static scroll click\n",
      "011 image-flow dynamic click scroll\n",
      "012 text-flow static scroll click\n",
      "013 image-flow dynamic click scroll\n",
      "014 text-flow static scroll click\n",
      "015 image-flow dynamic click scroll\n",
      "016 text-flow static scroll click\n",
      "017 image-flow dynamic click scroll\n",
      "018 text-flow static scroll click\n",
      "019 image-flow dynamic click scroll\n",
      "020 text-flow static scroll none\n",
      "\n",
      "\n",
      "Wrappers Delight / The Telegraph / 2013 \n",
      "\n",
      "001 page-flow dynamic none wipe\n",
      "002 photograph static wipe wipe\n",
      "003 text-flow static wipe wipe\n",
      "004 photograph static wipe wipe\n",
      "005 photograph static wipe wipe\n",
      "006 text-flow static wipe wipe\n",
      "007 photograph static wipe wipe\n",
      "008 photograph static wipe wipe\n",
      "009 photograph static wipe wipe\n",
      "010 text-flow static wipe wipe\n",
      "011 photograph static wipe wipe\n",
      "012 text-flow static wipe wipe\n",
      "013 photograph static wipe wipe\n",
      "014 text-flow static wipe wipe\n",
      "015 photograph static wipe wipe\n",
      "016 text-flow static wipe wipe\n",
      "017 photograph static wipe wipe\n",
      "018 text-flow static wipe wipe\n",
      "019 photograph static wipe wipe\n",
      "020 text-flow static wipe none\n",
      "\n",
      "\n"
     ]
    }
   ],
   "source": [
    "xmlfiles = glob.glob('../01_corpus/*.xml')\n",
    "\n",
    "screens = [] # Empty list for screens\n",
    "\n",
    "for xmlfile in xmlfiles: # Loop through each XML file\n",
    "    annotation = et.parse(xmlfile) # Parse the XML annotation in specific file\n",
    "    xmlroot = annotation.getroot() # Get the root element\n",
    "    print xmlroot.attrib['title'], '/', xmlroot.attrib['publisher'], '/', xmlroot.attrib['year'], '\\n' # Print longform data\n",
    "    for entry in xmlroot: # Iterate through the XML file\n",
    "        screen = xmlroot.attrib['article_identifier'] + '-' + entry.attrib['identifier'], entry.attrib['mode'], entry.attrib['type'], entry.attrib['transition_in'], entry.attrib['transition_out']\n",
    "        print entry.attrib['identifier'], entry.attrib['mode'], entry.attrib['type'], entry.attrib['transition_in'], entry.attrib['transition_out']\n",
    "        screens.append(screen)\n",
    "    print '\\n' # Extra line break"
   ]
  },
  {
   "cell_type": "markdown",
   "metadata": {},
   "source": [
    "### Examining the modes preceding a specific semiotic mode"
   ]
  },
  {
   "cell_type": "code",
   "execution_count": null,
   "metadata": {
    "collapsed": false
   },
   "outputs": [],
   "source": [
    "preceding_mode = []\n",
    "\n",
    "for current in screens[1:]:\n",
    "        previous = screens[screens.index(current) -1]\n",
    "        if current[1] == 'photograph':\n",
    "            preceding_mode.append(previous[2] + '-' + previous[1])\n",
    "            \n",
    "pm = c(preceding_mode)\n",
    "\n",
    "print c.most_common(pm)"
   ]
  },
  {
   "cell_type": "markdown",
   "metadata": {},
   "source": [
    "### Examining the modes following a specific semiotic mode"
   ]
  },
  {
   "cell_type": "code",
   "execution_count": null,
   "metadata": {
    "collapsed": false
   },
   "outputs": [],
   "source": [
    "following_modes = []\n",
    "\n",
    "for current in screens:\n",
    "    if screens.index(current) != len(screens) -1:\n",
    "        following = screens[screens.index(current) +1]\n",
    "        if current[1] == 'text-flow':\n",
    "            following_modes.append(following[2] + '-' + following[1])\n",
    "            \n",
    "fm = c(following_modes)\n",
    "\n",
    "print c.most_common(fm)"
   ]
  },
  {
   "cell_type": "markdown",
   "metadata": {},
   "source": [
    "### Examine sequences of semiotic modes"
   ]
  },
  {
   "cell_type": "code",
   "execution_count": 14,
   "metadata": {
    "collapsed": false
   },
   "outputs": [],
   "source": [
    "sequence = []\n",
    "\n",
    "for current in screens:\n",
    "    if screens.index(current) != len(screens) -1:\n",
    "        following = screens[screens.index(current) +1]\n",
    "        if current[1] != 'text-flow':\n",
    "            if following[1] != 'text-flow':\n",
    "                sequence.append(following[0] + ' ' + following[1] + ' followed by ' + current[0] + ' ' + current[1])\n",
    "\n"
   ]
  },
  {
   "cell_type": "code",
   "execution_count": 15,
   "metadata": {
    "collapsed": false
   },
   "outputs": [
    {
     "data": {
      "text/plain": [
       "['gsm-002 map followed by gsm-001 image-flow',\n",
       " 'gsm-003 photograph followed by gsm-002 map',\n",
       " 'gsm-006 photograph followed by gsm-005 image-flow',\n",
       " 'gsm-007 image-flow followed by gsm-006 photograph',\n",
       " 'gsm-008 photograph followed by gsm-007 image-flow',\n",
       " 'gsm-011 map followed by gsm-010 map',\n",
       " 'gsm-012 map followed by gsm-011 map',\n",
       " 'gsm-013 map followed by gsm-012 map',\n",
       " 'gsm-014 map followed by gsm-013 map',\n",
       " 'gsm-017 photograph followed by gsm-016 image-flow',\n",
       " 'gsm-018 photograph followed by gsm-017 photograph',\n",
       " 'gsm-019 image-flow followed by gsm-018 photograph',\n",
       " 'gsm-022 image-flow followed by gsm-021 image-flow',\n",
       " 'gsm-023 image-flow followed by gsm-022 image-flow',\n",
       " 'gsm-026 image-flow followed by gsm-025 photograph',\n",
       " 'gsm-027 image-flow followed by gsm-026 image-flow',\n",
       " 'gsm-030 image-flow followed by gsm-029 image-flow',\n",
       " 'gsm-031 photograph followed by gsm-030 image-flow',\n",
       " 'gsm-032 photograph followed by gsm-031 photograph',\n",
       " 'kwc-002 page-flow followed by kwc-001 image-flow',\n",
       " 'kwc-003 page-flow followed by kwc-002 page-flow',\n",
       " 'kwc-004 page-flow followed by kwc-003 page-flow',\n",
       " 'kwc-005 page-flow followed by kwc-004 page-flow',\n",
       " 'snw-001 image-flow followed by kwc-005 page-flow',\n",
       " 'snw-006 photograph followed by snw-005 map',\n",
       " 'jky-021 image-flow followed by jky-020 photograph',\n",
       " 'tlf-004 photograph followed by tlf-003 photograph',\n",
       " 'tlf-005 photograph followed by tlf-004 photograph',\n",
       " 'tlf-006 photograph followed by tlf-005 photograph',\n",
       " 'tlf-015 photograph followed by tlf-014 photograph',\n",
       " 'tlf-016 photograph followed by tlf-015 photograph',\n",
       " 'tlf-017 photograph followed by tlf-016 photograph',\n",
       " 'tri-001 image-flow followed by tcb-009 illustration',\n",
       " 'wde-002 photograph followed by wde-001 page-flow',\n",
       " 'wde-005 photograph followed by wde-004 photograph',\n",
       " 'wde-008 photograph followed by wde-007 photograph',\n",
       " 'wde-009 photograph followed by wde-008 photograph']"
      ]
     },
     "execution_count": 15,
     "metadata": {},
     "output_type": "execute_result"
    }
   ],
   "source": [
    "sequence"
   ]
  },
  {
   "cell_type": "markdown",
   "metadata": {},
   "source": [
    "### Counting modes, transitions and mode-transition patterns"
   ]
  },
  {
   "cell_type": "code",
   "execution_count": null,
   "metadata": {
    "collapsed": false
   },
   "outputs": [],
   "source": [
    "transition_patterns = []\n",
    "\n",
    "for xmlfile in xmlfiles: # Loop through each XML file\n",
    "    annotation = et.parse(xmlfile) # Parse the XML annotation in specific file\n",
    "    xmlroot = annotation.getroot() # Get the root element\n",
    "    print xmlroot.attrib['title'], '/', xmlroot.attrib['publisher'], '/', xmlroot.attrib['year'], '\\n' # Print longform data\n",
    "    \n",
    "    content = []\n",
    "    unique_modes = []\n",
    "    unique_transitions = []\n",
    "\n",
    "    for entry in xmlroot: # Iterate through the XML file\n",
    "        portion = xmlroot.attrib['article_identifier'] + '-' + entry.attrib['identifier'], entry.attrib['mode'], entry.attrib['type'], entry.attrib['transition_in'], entry.attrib['transition_out']\n",
    "        content.append(portion)\n",
    "        \n",
    "        mode = entry.attrib['type'] + ' ' + entry.attrib['mode']\n",
    "        unique_modes.append(mode)\n",
    "\n",
    "        transition = entry.attrib['transition_in'] + '-' + entry.attrib['transition_out']\n",
    "        if 'none' in transition:\n",
    "            continue\n",
    "        else:\n",
    "            unique_transitions.append(transition)        \n",
    "    \n",
    "    article_transitions = []\n",
    "    \n",
    "    for current in content: # Print the transitions\n",
    "        if content.index(current) != len(content) -1:\n",
    "            following = content[content.index(current) +1]\n",
    "            print 'Transition from ' + current[2] + ' ' + current[1] + ' to ' + following[2] + ' ' + following[1] + ' via ' + current[4] + '/' + following[3] \n",
    "            unique_transition = current[2] + ' ' + current[1] + ' to ' + following[2] + ' ' + following[1] + ' via ' + current[4] + '/' + following[3]\n",
    "            mode = current[2] + ' ' + current[1]\n",
    "            \n",
    "            transition_patterns.append(unique_transition)\n",
    "            article_transitions.append(unique_transition)\n",
    "        else:\n",
    "            continue\n",
    "            \n",
    "    print '\\n' # Extra line break\n",
    "        \n",
    "    print 'A total of %i unique modes, %i unique transitions and %i unique mode-transition combinations.' % (len(c(unique_modes)), len(c(unique_transitions)), len(c.most_common(c(article_transitions))))\n",
    "    \n",
    "    print '\\n' # Extra line break"
   ]
  },
  {
   "cell_type": "markdown",
   "metadata": {},
   "source": [
    "### Counting the semiotic modes"
   ]
  },
  {
   "cell_type": "code",
   "execution_count": null,
   "metadata": {
    "collapsed": false
   },
   "outputs": [],
   "source": [
    "modes = [] # Empty list for modes\n",
    "\n",
    "for screen in screens:\n",
    "    mode = screen[1] + '-' + screen[2]\n",
    "    modes.append(mode)\n",
    "    \n",
    "ms = c(modes)\n",
    "\n",
    "c.most_common(ms)"
   ]
  },
  {
   "cell_type": "markdown",
   "metadata": {},
   "source": [
    "### Counting the transitions"
   ]
  },
  {
   "cell_type": "code",
   "execution_count": null,
   "metadata": {
    "collapsed": false,
    "scrolled": false
   },
   "outputs": [],
   "source": [
    "transitions = []\n",
    "\n",
    "for screen in screens:\n",
    "    transition = screen[3] + '-' + screen[4]\n",
    "    if 'none' in transition:\n",
    "        continue\n",
    "    else:\n",
    "        transitions.append(transition)\n",
    "\n",
    "tr = c(transitions)\n",
    "\n",
    "c.most_common(tr)"
   ]
  },
  {
   "cell_type": "markdown",
   "metadata": {},
   "source": [
    "### Counting symmetric transitions"
   ]
  },
  {
   "cell_type": "code",
   "execution_count": null,
   "metadata": {
    "collapsed": false
   },
   "outputs": [],
   "source": [
    "sym_transitions = []\n",
    "\n",
    "for screen in screens:\n",
    "    transition = screen[3] + '-' + screen[4]\n",
    "    if screen[3] == screen[4]:\n",
    "        sym_transitions.append(transition)\n",
    "\n",
    "symtr = c(sym_transitions)\n",
    "\n",
    "len(sym_transitions), len(symtr), c.most_common(symtr)"
   ]
  },
  {
   "cell_type": "markdown",
   "metadata": {},
   "source": [
    "### Counting asymmetric transitions"
   ]
  },
  {
   "cell_type": "code",
   "execution_count": null,
   "metadata": {
    "collapsed": false
   },
   "outputs": [],
   "source": [
    "asym_transitions = []\n",
    "\n",
    "for screen in screens:\n",
    "    transition = screen[3] + '-' + screen[4]\n",
    "    if screen[3] != screen[4]:\n",
    "        asym_transitions.append(transition)\n",
    "\n",
    "asymtr = c(asym_transitions)\n",
    "\n",
    "len(asym_transitions), len(asymtr), c.most_common(asymtr)"
   ]
  },
  {
   "cell_type": "markdown",
   "metadata": {},
   "source": [
    "### Finding the most common transitions for a specific semiotic mode"
   ]
  },
  {
   "cell_type": "code",
   "execution_count": null,
   "metadata": {
    "collapsed": false
   },
   "outputs": [],
   "source": [
    "single_mode_transitions = []\n",
    "\n",
    "for m, t in zip(modes, transitions):\n",
    "    mode_transition = m, t\n",
    "    if 'text-flow' in m:\n",
    "        single_mode_transitions.append(mode_transition)\n",
    "\n",
    "mt = c(single_mode_transitions) # Set up a counter for c.most_common\n",
    "\n",
    "c.most_common(mt)"
   ]
  },
  {
   "cell_type": "markdown",
   "metadata": {
    "collapsed": true
   },
   "source": [
    "Find the most common transition patterns."
   ]
  },
  {
   "cell_type": "code",
   "execution_count": null,
   "metadata": {
    "collapsed": false
   },
   "outputs": [],
   "source": [
    "tp = c(transition_patterns)\n",
    "\n",
    "c.most_common(tp)"
   ]
  }
 ],
 "metadata": {
  "kernelspec": {
   "display_name": "Python 2",
   "language": "python",
   "name": "python2"
  },
  "language_info": {
   "codemirror_mode": {
    "name": "ipython",
    "version": 2
   },
   "file_extension": ".py",
   "mimetype": "text/x-python",
   "name": "python",
   "nbconvert_exporter": "python",
   "pygments_lexer": "ipython2",
   "version": "2.7.11"
  }
 },
 "nbformat": 4,
 "nbformat_minor": 0
}
